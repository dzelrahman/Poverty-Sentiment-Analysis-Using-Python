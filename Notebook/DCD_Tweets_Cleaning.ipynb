{
 "cells": [
  {
   "cell_type": "code",
   "execution_count": 1,
   "metadata": {},
   "outputs": [],
   "source": [
    "import pandas as pd\n",
    "import numpy as np\n",
    "import re\n",
    "import string"
   ]
  },
  {
   "cell_type": "markdown",
   "metadata": {},
   "source": [
    "Read Poverty Tweets"
   ]
  },
  {
   "cell_type": "code",
   "execution_count": 5,
   "metadata": {},
   "outputs": [],
   "source": [
    "with open(\"Dataset/PovertyRelatedTweets.csv\", \"r\") as file:\n",
    "    length = file.readlines()\n",
    "data= pd.DataFrame(columns= [\"Date\", \"Tweets\"], index=range(len(length)))"
   ]
  },
  {
   "cell_type": "code",
   "execution_count": 6,
   "metadata": {
    "run_control": {
     "marked": false
    }
   },
   "outputs": [
    {
     "name": "stdout",
     "output_type": "stream",
     "text": [
      "               Date                                             Tweets\n",
      "0              date                                               text\n",
      "1  2018-09-30 19:39  \"Growing Food and Faith in Impoverished Brazil...\n",
      "2  2018-09-30 19:37  \"In 30yrs, Vietnam from # poverty to an emergi...\n",
      "3  2018-09-30 19:37  \"The Politics of # Poverty: Officials grapple ...\n",
      "4  2018-09-30 19:29  \"Not just talking, doing. # kenyalendahand # k...\n",
      "5  2018-09-30 19:24                          \"Raiders 0 - 4 # Poverty\"\n",
      "6  2018-09-30 19:23  \"For all those who believe the world has gone ...\n",
      "7  2018-09-30 19:13  \"Even # Breathing Is A Risk In One Of # Orland...\n",
      "8  2018-09-30 19:09  \"\"Maybe it's time to rethink the idea that we ...\n",
      "9  2018-09-30 19:00  \"This is why I volunteer with Big Bros Big Sis...\n"
     ]
    }
   ],
   "source": [
    "with open(\"Dataset/PovertyRelatedTweets.csv\", \"r\") as ins:\n",
    "    i = 0\n",
    "    for line in ins:\n",
    "        line = list(line.split(';'))\n",
    "        data.loc[i].Date = line[1]\n",
    "        data.loc[i].Tweets= line[4]\n",
    "        i+= 1\n",
    "    print(data.head(10))"
   ]
  },
  {
   "cell_type": "code",
   "execution_count": 7,
   "metadata": {},
   "outputs": [],
   "source": [
    "data.to_csv(\"Separated_PovertyTweets.csv\", encoding=\"utf-8\")"
   ]
  },
  {
   "cell_type": "code",
   "execution_count": 8,
   "metadata": {},
   "outputs": [
    {
     "data": {
      "text/html": [
       "<div>\n",
       "<style scoped>\n",
       "    .dataframe tbody tr th:only-of-type {\n",
       "        vertical-align: middle;\n",
       "    }\n",
       "\n",
       "    .dataframe tbody tr th {\n",
       "        vertical-align: top;\n",
       "    }\n",
       "\n",
       "    .dataframe thead th {\n",
       "        text-align: right;\n",
       "    }\n",
       "</style>\n",
       "<table border=\"1\" class=\"dataframe\">\n",
       "  <thead>\n",
       "    <tr style=\"text-align: right;\">\n",
       "      <th></th>\n",
       "      <th>Date</th>\n",
       "      <th>Tweets</th>\n",
       "    </tr>\n",
       "  </thead>\n",
       "  <tbody>\n",
       "    <tr>\n",
       "      <td>1</td>\n",
       "      <td>2018-09-30 19:39</td>\n",
       "      <td>\"Growing Food and Faith in Impoverished Brazil...</td>\n",
       "    </tr>\n",
       "    <tr>\n",
       "      <td>2</td>\n",
       "      <td>2018-09-30 19:37</td>\n",
       "      <td>\"In 30yrs, Vietnam from # poverty to an emergi...</td>\n",
       "    </tr>\n",
       "    <tr>\n",
       "      <td>3</td>\n",
       "      <td>2018-09-30 19:37</td>\n",
       "      <td>\"The Politics of # Poverty: Officials grapple ...</td>\n",
       "    </tr>\n",
       "    <tr>\n",
       "      <td>4</td>\n",
       "      <td>2018-09-30 19:29</td>\n",
       "      <td>\"Not just talking, doing. # kenyalendahand # k...</td>\n",
       "    </tr>\n",
       "    <tr>\n",
       "      <td>5</td>\n",
       "      <td>2018-09-30 19:24</td>\n",
       "      <td>\"Raiders 0 - 4 # Poverty\"</td>\n",
       "    </tr>\n",
       "    <tr>\n",
       "      <td>6</td>\n",
       "      <td>2018-09-30 19:23</td>\n",
       "      <td>\"For all those who believe the world has gone ...</td>\n",
       "    </tr>\n",
       "  </tbody>\n",
       "</table>\n",
       "</div>"
      ],
      "text/plain": [
       "               Date                                             Tweets\n",
       "1  2018-09-30 19:39  \"Growing Food and Faith in Impoverished Brazil...\n",
       "2  2018-09-30 19:37  \"In 30yrs, Vietnam from # poverty to an emergi...\n",
       "3  2018-09-30 19:37  \"The Politics of # Poverty: Officials grapple ...\n",
       "4  2018-09-30 19:29  \"Not just talking, doing. # kenyalendahand # k...\n",
       "5  2018-09-30 19:24                          \"Raiders 0 - 4 # Poverty\"\n",
       "6  2018-09-30 19:23  \"For all those who believe the world has gone ..."
      ]
     },
     "execution_count": 8,
     "metadata": {},
     "output_type": "execute_result"
    }
   ],
   "source": [
    "train= pd.read_csv(\"Separated_PovertyTweets.csv\")\n",
    "train.drop(columns = ['Unnamed: 0'], inplace = True)\n",
    "train.drop(train.index[0], inplace = True)\n",
    "train.head(6)"
   ]
  },
  {
   "cell_type": "markdown",
   "metadata": {},
   "source": [
    "Check the length of tweet"
   ]
  },
  {
   "cell_type": "code",
   "execution_count": 9,
   "metadata": {},
   "outputs": [],
   "source": [
    "train['uncleaned_len'] = [len(l) for l in train.Tweets]"
   ]
  },
  {
   "cell_type": "code",
   "execution_count": 10,
   "metadata": {},
   "outputs": [
    {
     "data": {
      "text/html": [
       "<div>\n",
       "<style scoped>\n",
       "    .dataframe tbody tr th:only-of-type {\n",
       "        vertical-align: middle;\n",
       "    }\n",
       "\n",
       "    .dataframe tbody tr th {\n",
       "        vertical-align: top;\n",
       "    }\n",
       "\n",
       "    .dataframe thead th {\n",
       "        text-align: right;\n",
       "    }\n",
       "</style>\n",
       "<table border=\"1\" class=\"dataframe\">\n",
       "  <thead>\n",
       "    <tr style=\"text-align: right;\">\n",
       "      <th></th>\n",
       "      <th>Date</th>\n",
       "      <th>Tweets</th>\n",
       "      <th>uncleaned_len</th>\n",
       "    </tr>\n",
       "  </thead>\n",
       "  <tbody>\n",
       "    <tr>\n",
       "      <td>1</td>\n",
       "      <td>2018-09-30 19:39</td>\n",
       "      <td>\"Growing Food and Faith in Impoverished Brazil...</td>\n",
       "      <td>247</td>\n",
       "    </tr>\n",
       "    <tr>\n",
       "      <td>2</td>\n",
       "      <td>2018-09-30 19:37</td>\n",
       "      <td>\"In 30yrs, Vietnam from # poverty to an emergi...</td>\n",
       "      <td>429</td>\n",
       "    </tr>\n",
       "    <tr>\n",
       "      <td>3</td>\n",
       "      <td>2018-09-30 19:37</td>\n",
       "      <td>\"The Politics of # Poverty: Officials grapple ...</td>\n",
       "      <td>309</td>\n",
       "    </tr>\n",
       "    <tr>\n",
       "      <td>4</td>\n",
       "      <td>2018-09-30 19:29</td>\n",
       "      <td>\"Not just talking, doing. # kenyalendahand # k...</td>\n",
       "      <td>292</td>\n",
       "    </tr>\n",
       "    <tr>\n",
       "      <td>5</td>\n",
       "      <td>2018-09-30 19:24</td>\n",
       "      <td>\"Raiders 0 - 4 # Poverty\"</td>\n",
       "      <td>25</td>\n",
       "    </tr>\n",
       "    <tr>\n",
       "      <td>6</td>\n",
       "      <td>2018-09-30 19:23</td>\n",
       "      <td>\"For all those who believe the world has gone ...</td>\n",
       "      <td>234</td>\n",
       "    </tr>\n",
       "  </tbody>\n",
       "</table>\n",
       "</div>"
      ],
      "text/plain": [
       "               Date                                             Tweets  \\\n",
       "1  2018-09-30 19:39  \"Growing Food and Faith in Impoverished Brazil...   \n",
       "2  2018-09-30 19:37  \"In 30yrs, Vietnam from # poverty to an emergi...   \n",
       "3  2018-09-30 19:37  \"The Politics of # Poverty: Officials grapple ...   \n",
       "4  2018-09-30 19:29  \"Not just talking, doing. # kenyalendahand # k...   \n",
       "5  2018-09-30 19:24                          \"Raiders 0 - 4 # Poverty\"   \n",
       "6  2018-09-30 19:23  \"For all those who believe the world has gone ...   \n",
       "\n",
       "   uncleaned_len  \n",
       "1            247  \n",
       "2            429  \n",
       "3            309  \n",
       "4            292  \n",
       "5             25  \n",
       "6            234  "
      ]
     },
     "execution_count": 10,
     "metadata": {},
     "output_type": "execute_result"
    }
   ],
   "source": [
    "train.head(6)"
   ]
  },
  {
   "cell_type": "markdown",
   "metadata": {},
   "source": [
    "Preprocess tweets"
   ]
  },
  {
   "cell_type": "code",
   "execution_count": 11,
   "metadata": {},
   "outputs": [],
   "source": [
    "##Preprocess/clean the tweets\n",
    "def preprocessTweets(train): \n",
    "    # HTML encoding if any\n",
    "    \n",
    "    # import unicodedata\n",
    "    train.Tweets = train.Tweets.str.normalize('NFKD').str.encode('ascii', errors='ignore').str.decode('utf-8')\n",
    "    #train.Tweets = train.Tweets.map(lambda x: x.strip())\n",
    "    #train.Tweets = train.Tweets.map(lambda x: x.strip())  \n",
    "    train.Tweets = train.Tweets.str.lstrip()\n",
    "    train.Tweets = train.Tweets.str.rstrip()\n",
    "    train.Tweets = train.Tweets.str.strip()\n",
    "        \n",
    "    #@ replace\n",
    "    regex_pat = re.compile(r'((?:@ [\\w_]+) | (?:@[\\w_]+))', flags = re.IGNORECASE)\n",
    "    train.Tweets = train.Tweets.replace(regex_pat, '')\n",
    "    \n",
    "    #numbers\n",
    "    regex_pat = re.compile(  r'(?:(?:\\d+,?)+(?:\\.?\\d+)?)', flags = re.IGNORECASE)\n",
    "    train.Tweets = train.Tweets.replace(regex_pat, '')\n",
    "    \n",
    "    #hashtags \n",
    "    regex_pat = re.compile(r'# ([^\\s]+)', flags = re.IGNORECASE)\n",
    "    train.Tweets = train.Tweets.replace(regex_pat,  r'\\1')\n",
    "    \n",
    "    #URL\n",
    "    regex_pat = re.compile( r'((\\w+\\.com)|(www\\.[^\\s]+)|(http[s]?://(?:[a-z]|[0-9]|[$-_@.&amp;+]|[!*\\(\\),]|(?:%[0-9a-f][0-9a-f]))+))', flags = re.IGNORECASE)\n",
    "    train.Tweets = train.Tweets.replace(regex_pat,' ')\n",
    "    \n",
    "    #retweet text 'RT'\n",
    "    regex_pat = re.compile(r'^RT[\\s]+', flags = re.IGNORECASE)\n",
    "    train.Tweets = train.Tweets.replace(regex_pat,  '')\n",
    "    \n",
    "    #replace 2+ dots with a space\n",
    "    regex_pat = re.compile(r'\\.{2,}', flags = re.IGNORECASE)\n",
    "    train.Tweets = train.Tweets.replace(regex_pat,  ' ')\n",
    "    \n",
    "    # remove punctuations like quote, exclamation sign, etc.\n",
    "    # we replace them with a space\n",
    "    regex_pat = re.compile(r'['+string.punctuation+']+', flags = re.IGNORECASE)\n",
    "    train.Tweets = train.Tweets.replace(regex_pat,  ' ')\n",
    "    \n",
    "    # Replace multiple spaces with a single space\n",
    "    regex_pat = re.compile(r'\\s+', flags = re.IGNORECASE)\n",
    "    train.Tweets = train.Tweets.replace(regex_pat,  ' ')"
   ]
  },
  {
   "cell_type": "code",
   "execution_count": 12,
   "metadata": {},
   "outputs": [],
   "source": [
    "preprocessTweets(train)\n",
    "train['cleaned_len'] = [len(l) for l in train.Tweets]"
   ]
  },
  {
   "cell_type": "code",
   "execution_count": 13,
   "metadata": {},
   "outputs": [
    {
     "name": "stdout",
     "output_type": "stream",
     "text": [
      "1      Growing Food and Faith in Impoverished Brazil...\n",
      "2      In yrs Vietnam from poverty to an emerging ma...\n",
      "3      The Politics of Poverty Officials grapple wit...\n",
      "4      Not just talking doing kenyalendahand kenya n...\n",
      "5                                      Raiders Poverty \n",
      "6      For all those who believe the world has gone ...\n",
      "7      Even Breathing Is A Risk In One Of Orlando s ...\n",
      "8      Maybe it s time to rethink the idea that we k...\n",
      "9      This is why I volunteer with Big Bros Big Sis...\n",
      "10     Americas children in brief Key national indic...\n",
      "Name: Tweets, dtype: object\n"
     ]
    }
   ],
   "source": [
    "#Cleaned Tweets\n",
    "print(train.Tweets.head(10))"
   ]
  },
  {
   "cell_type": "markdown",
   "metadata": {},
   "source": [
    "Final Cleaned Tweets"
   ]
  },
  {
   "cell_type": "code",
   "execution_count": 14,
   "metadata": {},
   "outputs": [],
   "source": [
    "train.to_csv(\"CleanedPovertyTweets_v1.csv\")"
   ]
  },
  {
   "cell_type": "code",
   "execution_count": 15,
   "metadata": {},
   "outputs": [
    {
     "data": {
      "text/html": [
       "<div>\n",
       "<style scoped>\n",
       "    .dataframe tbody tr th:only-of-type {\n",
       "        vertical-align: middle;\n",
       "    }\n",
       "\n",
       "    .dataframe tbody tr th {\n",
       "        vertical-align: top;\n",
       "    }\n",
       "\n",
       "    .dataframe thead th {\n",
       "        text-align: right;\n",
       "    }\n",
       "</style>\n",
       "<table border=\"1\" class=\"dataframe\">\n",
       "  <thead>\n",
       "    <tr style=\"text-align: right;\">\n",
       "      <th></th>\n",
       "      <th>Unnamed: 0</th>\n",
       "      <th>Date</th>\n",
       "      <th>Tweets</th>\n",
       "      <th>uncleaned_len</th>\n",
       "      <th>cleaned_len</th>\n",
       "    </tr>\n",
       "  </thead>\n",
       "  <tbody>\n",
       "    <tr>\n",
       "      <td>0</td>\n",
       "      <td>1</td>\n",
       "      <td>2018-09-30 19:39</td>\n",
       "      <td>Growing Food and Faith in Impoverished Brazil...</td>\n",
       "      <td>247</td>\n",
       "      <td>89</td>\n",
       "    </tr>\n",
       "    <tr>\n",
       "      <td>1</td>\n",
       "      <td>2</td>\n",
       "      <td>2018-09-30 19:37</td>\n",
       "      <td>In yrs Vietnam from poverty to an emerging ma...</td>\n",
       "      <td>429</td>\n",
       "      <td>220</td>\n",
       "    </tr>\n",
       "    <tr>\n",
       "      <td>2</td>\n",
       "      <td>3</td>\n",
       "      <td>2018-09-30 19:37</td>\n",
       "      <td>The Politics of Poverty Officials grapple wit...</td>\n",
       "      <td>309</td>\n",
       "      <td>96</td>\n",
       "    </tr>\n",
       "    <tr>\n",
       "      <td>3</td>\n",
       "      <td>4</td>\n",
       "      <td>2018-09-30 19:29</td>\n",
       "      <td>Not just talking doing kenyalendahand kenya n...</td>\n",
       "      <td>292</td>\n",
       "      <td>166</td>\n",
       "    </tr>\n",
       "    <tr>\n",
       "      <td>4</td>\n",
       "      <td>5</td>\n",
       "      <td>2018-09-30 19:24</td>\n",
       "      <td>Raiders Poverty</td>\n",
       "      <td>25</td>\n",
       "      <td>17</td>\n",
       "    </tr>\n",
       "    <tr>\n",
       "      <td>5</td>\n",
       "      <td>6</td>\n",
       "      <td>2018-09-30 19:23</td>\n",
       "      <td>For all those who believe the world has gone ...</td>\n",
       "      <td>234</td>\n",
       "      <td>212</td>\n",
       "    </tr>\n",
       "    <tr>\n",
       "      <td>6</td>\n",
       "      <td>7</td>\n",
       "      <td>2018-09-30 19:13</td>\n",
       "      <td>Even Breathing Is A Risk In One Of Orlando s ...</td>\n",
       "      <td>207</td>\n",
       "      <td>151</td>\n",
       "    </tr>\n",
       "    <tr>\n",
       "      <td>7</td>\n",
       "      <td>8</td>\n",
       "      <td>2018-09-30 19:09</td>\n",
       "      <td>Maybe it s time to rethink the idea that we k...</td>\n",
       "      <td>192</td>\n",
       "      <td>125</td>\n",
       "    </tr>\n",
       "    <tr>\n",
       "      <td>8</td>\n",
       "      <td>9</td>\n",
       "      <td>2018-09-30 19:00</td>\n",
       "      <td>This is why I volunteer with Big Bros Big Sis...</td>\n",
       "      <td>191</td>\n",
       "      <td>166</td>\n",
       "    </tr>\n",
       "    <tr>\n",
       "      <td>9</td>\n",
       "      <td>10</td>\n",
       "      <td>2018-09-30 19:00</td>\n",
       "      <td>Americas children in brief Key national indic...</td>\n",
       "      <td>279</td>\n",
       "      <td>211</td>\n",
       "    </tr>\n",
       "  </tbody>\n",
       "</table>\n",
       "</div>"
      ],
      "text/plain": [
       "   Unnamed: 0              Date  \\\n",
       "0           1  2018-09-30 19:39   \n",
       "1           2  2018-09-30 19:37   \n",
       "2           3  2018-09-30 19:37   \n",
       "3           4  2018-09-30 19:29   \n",
       "4           5  2018-09-30 19:24   \n",
       "5           6  2018-09-30 19:23   \n",
       "6           7  2018-09-30 19:13   \n",
       "7           8  2018-09-30 19:09   \n",
       "8           9  2018-09-30 19:00   \n",
       "9          10  2018-09-30 19:00   \n",
       "\n",
       "                                              Tweets  uncleaned_len  \\\n",
       "0   Growing Food and Faith in Impoverished Brazil...            247   \n",
       "1   In yrs Vietnam from poverty to an emerging ma...            429   \n",
       "2   The Politics of Poverty Officials grapple wit...            309   \n",
       "3   Not just talking doing kenyalendahand kenya n...            292   \n",
       "4                                   Raiders Poverty              25   \n",
       "5   For all those who believe the world has gone ...            234   \n",
       "6   Even Breathing Is A Risk In One Of Orlando s ...            207   \n",
       "7   Maybe it s time to rethink the idea that we k...            192   \n",
       "8   This is why I volunteer with Big Bros Big Sis...            191   \n",
       "9   Americas children in brief Key national indic...            279   \n",
       "\n",
       "   cleaned_len  \n",
       "0           89  \n",
       "1          220  \n",
       "2           96  \n",
       "3          166  \n",
       "4           17  \n",
       "5          212  \n",
       "6          151  \n",
       "7          125  \n",
       "8          166  \n",
       "9          211  "
      ]
     },
     "execution_count": 15,
     "metadata": {},
     "output_type": "execute_result"
    }
   ],
   "source": [
    "cleaned_trained = pd.read_csv(\"CleanedPovertyTweets_v1.csv\")\n",
    "cleaned_trained.head(10)"
   ]
  },
  {
   "cell_type": "code",
   "execution_count": null,
   "metadata": {},
   "outputs": [],
   "source": []
  }
 ],
 "metadata": {
  "kernelspec": {
   "display_name": "Python [conda env:DA]",
   "language": "python",
   "name": "conda-env-DA-py"
  },
  "language_info": {
   "codemirror_mode": {
    "name": "ipython",
    "version": 3
   },
   "file_extension": ".py",
   "mimetype": "text/x-python",
   "name": "python",
   "nbconvert_exporter": "python",
   "pygments_lexer": "ipython3",
   "version": "3.7.4"
  },
  "toc": {
   "base_numbering": 1,
   "nav_menu": {},
   "number_sections": true,
   "sideBar": true,
   "skip_h1_title": false,
   "title_cell": "Table of Contents",
   "title_sidebar": "Contents",
   "toc_cell": false,
   "toc_position": {},
   "toc_section_display": true,
   "toc_window_display": false
  }
 },
 "nbformat": 4,
 "nbformat_minor": 2
}
